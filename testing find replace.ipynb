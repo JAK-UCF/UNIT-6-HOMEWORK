{
 "cells": [
  {
   "cell_type": "code",
   "execution_count": 1,
   "metadata": {},
   "outputs": [
    {
     "name": "stdout",
     "output_type": "stream",
     "text": [
      "['Duluth', 'Orlando', 'San Diego']\n"
     ]
    }
   ],
   "source": [
    "cities = ['Duluth', 'Orlando', 'San Diego']\n",
    "search_cities = []\n",
    "\n",
    "for city in cities:\n",
    "    ALPHA = city.replace(' ', '+')\n",
    "    search_cities.append(ALPHA)\n",
    "        \n",
    "print(cities)\n",
    "\n",
    "# cities.replace(' ', '%20')"
   ]
  },
  {
   "cell_type": "code",
   "execution_count": 2,
   "metadata": {},
   "outputs": [
    {
     "name": "stdout",
     "output_type": "stream",
     "text": [
      "['Duluth', 'Orlando', 'San Diego']\n"
     ]
    }
   ],
   "source": [
    "print(cities)"
   ]
  },
  {
   "cell_type": "code",
   "execution_count": 3,
   "metadata": {},
   "outputs": [
    {
     "name": "stdout",
     "output_type": "stream",
     "text": [
      "['Duluth', 'Orlando', 'San+Diego']\n"
     ]
    }
   ],
   "source": [
    "print(search_cities)"
   ]
  },
  {
   "cell_type": "code",
   "execution_count": 4,
   "metadata": {},
   "outputs": [
    {
     "data": {
      "text/plain": [
       "True"
      ]
     },
     "execution_count": 4,
     "metadata": {},
     "output_type": "execute_result"
    }
   ],
   "source": [
    "name = 'hello'\n",
    "name2 = 'this is a string with spaces'\n",
    "name3 = 'nope'\n",
    "name4 = 'another test string'\n",
    "\n",
    "' ' in name2"
   ]
  },
  {
   "cell_type": "code",
   "execution_count": 6,
   "metadata": {},
   "outputs": [
    {
     "data": {
      "text/plain": [
       "['hello',\n",
       " 'this%20is%20a%20string%20with%20spaces',\n",
       " 'nope',\n",
       " 'another%20test%20string']"
      ]
     },
     "execution_count": 6,
     "metadata": {},
     "output_type": "execute_result"
    }
   ],
   "source": [
    "name_text = name2.replace(' ', '%20')\n",
    "name_text\n",
    "\n",
    "testlist = [name, name2, name3, name4]\n",
    "# testlist\n",
    "\n",
    "finallist = []\n",
    "\n",
    "for item in testlist:\n",
    "    newstr = item.replace(' ', '%20')\n",
    "    finallist.append(newstr)\n",
    "\n",
    "finallist    "
   ]
  },
  {
   "cell_type": "code",
   "execution_count": 7,
   "metadata": {},
   "outputs": [],
   "source": [
    "### WORKS WITH + JUST AS WELL TOO!!"
   ]
  },
  {
   "cell_type": "code",
   "execution_count": 8,
   "metadata": {},
   "outputs": [
    {
     "data": {
      "text/plain": [
       "['yosauce',\n",
       " 'this+is+a+sentence+string',\n",
       " 'notAstring',\n",
       " 'another+string+HERE',\n",
       " 'final+string+test']"
      ]
     },
     "execution_count": 8,
     "metadata": {},
     "output_type": "execute_result"
    }
   ],
   "source": [
    "item1 = 'yosauce'\n",
    "item2 = 'this is a sentence string'\n",
    "item3 = 'notAstring'\n",
    "item4 = 'another string HERE'\n",
    "item5 = 'final string test'\n",
    "\n",
    "listforTEST = [item1, item2, item3, item4, item5]\n",
    "\n",
    "outputlist = []\n",
    "\n",
    "for eachitem in listforTEST:\n",
    "    newitem = eachitem.replace(' ', '+')\n",
    "    outputlist.append(newitem)\n",
    "    \n",
    "outputlist"
   ]
  },
  {
   "cell_type": "code",
   "execution_count": 9,
   "metadata": {},
   "outputs": [
    {
     "data": {
      "text/plain": [
       "['yosauce',\n",
       " 'this+is+a+sentence+string',\n",
       " 'notAstring',\n",
       " 'another+string+HERE',\n",
       " 'final+string+test']"
      ]
     },
     "execution_count": 9,
     "metadata": {},
     "output_type": "execute_result"
    }
   ],
   "source": [
    "search_cities = []\n",
    "for eachitem in listforTEST:\n",
    "        enwItem = eachitem.replace(' ', '+')\n",
    "        search_cities.append(enwItem)\n",
    "\n",
    "search_cities\n"
   ]
  },
  {
   "cell_type": "code",
   "execution_count": null,
   "metadata": {},
   "outputs": [],
   "source": []
  }
 ],
 "metadata": {
  "kernelspec": {
   "display_name": "Python 3",
   "language": "python",
   "name": "python3"
  },
  "language_info": {
   "codemirror_mode": {
    "name": "ipython",
    "version": 3
   },
   "file_extension": ".py",
   "mimetype": "text/x-python",
   "name": "python",
   "nbconvert_exporter": "python",
   "pygments_lexer": "ipython3",
   "version": "3.7.3"
  },
  "varInspector": {
   "cols": {
    "lenName": 16,
    "lenType": 16,
    "lenVar": 40
   },
   "kernels_config": {
    "python": {
     "delete_cmd_postfix": "",
     "delete_cmd_prefix": "del ",
     "library": "var_list.py",
     "varRefreshCmd": "print(var_dic_list())"
    },
    "r": {
     "delete_cmd_postfix": ") ",
     "delete_cmd_prefix": "rm(",
     "library": "var_list.r",
     "varRefreshCmd": "cat(var_dic_list()) "
    }
   },
   "types_to_exclude": [
    "module",
    "function",
    "builtin_function_or_method",
    "instance",
    "_Feature"
   ],
   "window_display": false
  }
 },
 "nbformat": 4,
 "nbformat_minor": 2
}
