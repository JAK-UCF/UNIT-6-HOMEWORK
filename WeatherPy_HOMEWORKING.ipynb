{
 "cells": [
  {
   "cell_type": "markdown",
   "metadata": {},
   "source": [
    "# WeatherPy\n",
    "----"
   ]
  },
  {
   "cell_type": "code",
   "execution_count": null,
   "metadata": {
    "scrolled": true
   },
   "outputs": [],
   "source": [
    "# Dependencies and Setup\n",
    "import os\n",
    "import matplotlib.pyplot as plt\n",
    "import pandas as pd\n",
    "import numpy as np\n",
    "import requests\n",
    "import time\n",
    "\n",
    "from citipy import citipy\n",
    "\n",
    "from api_JAK import api_key\n",
    "\n",
    "# CSV with collected data\n",
    "output_data_file = 'output_data/cities.csv'\n",
    "\n",
    "# Set range of potential latitudes and longitudes\n",
    "lat_set = (-90, 90)\n",
    "long_set = (-180, 180)"
   ]
  },
  {
   "cell_type": "markdown",
   "metadata": {},
   "source": [
    "## Generate Cities List"
   ]
  },
  {
   "cell_type": "code",
   "execution_count": null,
   "metadata": {},
   "outputs": [],
   "source": [
    "# List for holding coordinates and cities\n",
    "lat_longs = []\n",
    "cities = []\n",
    "search_cities = []\n",
    "countries = []\n",
    "\n",
    "# # # # # # # # # # # # # # # # # # # # # # # # # # # # # # # # # # # \n",
    "# # # # # # # # # # # # # # # # # # # # # # # # # # # # # # # # # # # \n",
    "#                                                                   #\n",
    "#       UPDATE COORDINATE COUNT (2000) BEFORE SUBMITTING!           #\n",
    "#                                                                   #\n",
    "# # # # # # # # # # # # # # # # # # # # # # # # # # # # # # # # # # # \n",
    "# # # # # # # # # # # # # # # # # # # # # # # # # # # # # # # # # # # \n",
    "\n",
    "\n",
    "# Create a set (min 500) of random coordinates\n",
    "lats = np.random.uniform(low = -90.0000, high = 90.0000, size = 25)\n",
    "longs = np.random.uniform(low = -180.0000, high = 180.0000, size = 25)\n",
    "lat_longs = zip(lats, longs)\n",
    "\n",
    "# Identify nearest city for each set of coordinates, add only if not already in list\n",
    "for lat_long in lat_longs:\n",
    "    city_name = citipy.nearest_city(lat_long[0], lat_long[1]).city_name\n",
    "    country_code = citipy.nearest_city(lat_long[0], lat_long[1]).country_code\n",
    "    if city_name not in cities:\n",
    "        cities.append(city_name)\n",
    "        countries.append(country_code)\n",
    "\n",
    "# fill the space in multi-word city names (so the API pulls correctly)\n",
    "for city in cities:\n",
    "        readble_city = city.replace(' ', '+')\n",
    "        search_cities.append(readble_city)\n",
    "\n",
    "search_list = list(zip(search_cities, countries))\n",
    "\n",
    "# Print the city count to confirm sufficient count\n",
    "print(f'{len(cities)}\\n{len(countries)}\\n\\n{cities}\\n\\n{countries}\\n\\n{search_list}')\n",
    "\n",
    "# if cities list has cities with a space in the name, \n",
    "# the search_list item needs to replace the space with '%20' so the web address will search for correct city"
   ]
  },
  {
   "cell_type": "markdown",
   "metadata": {},
   "source": [
    "### Perform API Calls\n",
    "* Perform a weather check on each city using a series of successive API calls.\n",
    "* Include a print log of each city as it'sbeing processed (with the city number and city name).\n"
   ]
  },
  {
   "cell_type": "code",
   "execution_count": null,
   "metadata": {},
   "outputs": [],
   "source": [
    "# define url for calls\n",
    "url = 'http://api.openweathermap.org/data/2.5/weather?appid='\n",
    "## test city_url\n",
    "# city_url = url + api_key + '&units=imperial&q=' + city_name + ',' + country_code\n",
    "\n",
    "## IN CASE I NEED THIS DIFFERENTLY, IT CAN BE ALTERNATIVELY WRITTEN\n",
    "# units = 'imperial'\n",
    "# city_url = weather_url + 'appid=' + api_key + '&units=' + units + '&q=' + city + ',' + country\n",
    "# response = requests.get(city_url)\n",
    "# weather_data = response.json() \n",
    "\n",
    "## test URL retrieval\n",
    "# print(response.url)\n",
    "\n",
    "## test dumps for reading json retrieval\n",
    "# print(json.dumps(weather_data, indent=4, sort_keys=True))"
   ]
  },
  {
   "cell_type": "code",
   "execution_count": null,
   "metadata": {},
   "outputs": [],
   "source": [
    "city_cap = [] # duplicates info from cities variable in use, but in a cleaner format (proper capitalization)\n",
    "country_cap = [] # duplicates info from countries variable in use, but in a cleaner format (proper capitalization)\n",
    "lat = []\n",
    "temp = []\n",
    "humidity = []\n",
    "cloudiness = []\n",
    "wind_speed = []\n",
    "date = []\n",
    "failure_count = []\n",
    "\n",
    "call_count = 0\n",
    "\n",
    "print('Processing Records\\n=-=-=-=-=-=-=-=-=-=-=-=-=-=-=-=-=')\n",
    "\n",
    "for call_count in range(len(search_list)):\n",
    "    try:\n",
    "        city_url = url + api_key + '&units=imperial&q=' + search_list[call_count][0] + ',' + search_list[call_count][1]\n",
    "        weather_data = requests.get(city_url).json() \n",
    "\n",
    "        if weather_data[\"cod\"] == '404':\n",
    "            call_count += 1\n",
    "            failure_count.append(f'City Call {call_count}')\n",
    "            print(f'City Call {call_count}: ***** FAILED: City Not Found *****')\n",
    "        else:\n",
    "            city_cap.append(weather_data[\"name\"])\n",
    "            city_log = weather_data[\"name\"]\n",
    "            country_cap.append(weather_data[\"sys\"][\"country\"])\n",
    "            country_log = weather_data[\"sys\"][\"country\"]\n",
    "            lat.append(weather_data[\"coord\"][\"lat\"])\n",
    "            temp.append(weather_data[\"main\"][\"temp_max\"])\n",
    "            humidity.append(weather_data[\"main\"][\"humidity\"])\n",
    "            cloudiness.append(weather_data[\"clouds\"][\"all\"])\n",
    "            wind_speed.append(weather_data[\"wind\"][\"speed\"])\n",
    "            date.append(weather_data[\"dt\"])\n",
    "\n",
    "            print(f'City Call {call_count + 1}:  {city_log}, {country_log}')\n",
    "\n",
    "        print(city_url)\n",
    "        call_count += 1\n",
    "\n",
    "    except:\n",
    "        print('= + = + = + = + = + = +     ERROR     + = + = + = + = + = + =')\n",
    "    continue"
   ]
  },
  {
   "cell_type": "code",
   "execution_count": null,
   "metadata": {},
   "outputs": [],
   "source": [
    "# quick check of list data\n",
    "print(f'{len(search_list)} random cities generated.\\n')\n",
    "print(f'{len(failure_count)} FAILURES:\\n{failure_count}\\n')\n",
    "# print(failure_count)\n",
    "print((f'''Complete data will have {len(search_list) - len(failure_count)} items.\n",
    "\n",
    "Item Count:\n",
    "{len(city_cap)}\n",
    "{len(country_cap)}\n",
    "{len(lat)}\n",
    "{len(temp)}\n",
    "{len(humidity)}\n",
    "{len(cloudiness)}\n",
    "{len(wind_speed)}\n",
    "{len(date)}'''))"
   ]
  },
  {
   "cell_type": "markdown",
   "metadata": {},
   "source": [
    "### Convert Raw Data to DataFrame\n",
    "* Export the city data into a .csv.\n",
    "* Display the DataFrame"
   ]
  },
  {
   "cell_type": "code",
   "execution_count": null,
   "metadata": {},
   "outputs": [],
   "source": [
    "city_weather_df = (pd.DataFrame({'City': city_cap, \n",
    "                                 'Country': country_cap, \n",
    "                                 'Latitude': lat, \n",
    "                                 'Temperature (F)': temp, \n",
    "                                 'Humidity (%)': humidity, \n",
    "                                 'Cloudiness (%)': cloudiness, \n",
    "                                 'Wind Speed (mph)': wind_speed, \n",
    "                                 'Date': date}))\n",
    "city_weather_df.head(50)"
   ]
  },
  {
   "cell_type": "code",
   "execution_count": null,
   "metadata": {},
   "outputs": [],
   "source": [
    "city_weather_df.count()"
   ]
  },
  {
   "cell_type": "markdown",
   "metadata": {},
   "source": [
    "### Plotting the Data\n",
    "* Use proper labeling of the plots using plot titles (including date of analysis) and axes labels.\n",
    "* Save the plotted figures as .pngs."
   ]
  },
  {
   "cell_type": "markdown",
   "metadata": {},
   "source": [
    "#### Latitude vs. Temperature Plot"
   ]
  },
  {
   "cell_type": "code",
   "execution_count": null,
   "metadata": {},
   "outputs": [],
   "source": [
    "plt.figure(figsize = (15, 10))\n",
    "\n",
    "plt.scatter(city_weather_df['Latitude'], city_weather_df['Temperature (F)'], \n",
    "            marker = 'o', \n",
    "            color = 'skyblue', \n",
    "            edgecolor = 'teal', \n",
    "            alpha = 0.75)\n",
    "\n",
    "# Title the plot.\n",
    "plt.title('Latitude vs Temperature', fontsize = 30)\n",
    "\n",
    "# Label and limits for x-axis.\n",
    "plt.xlabel('Location: Degrees of Latitude', fontsize = 16)\n",
    "plt.xlim (-90, 90)\n",
    "\n",
    "# Label and limits for y-axis.\n",
    "plt.ylabel('Temperature: °Fahrenheit', fontsize = 16)\n",
    "plt.ylim (50, 130)\n",
    "\n",
    "# Add light grid.\n",
    "plt.grid(color = 'silver', linestyle = '-.', linewidth = 0.5)\n",
    "\n",
    "plt.show()"
   ]
  },
  {
   "cell_type": "markdown",
   "metadata": {},
   "source": [
    "#### Latitude vs. Humidity Plot"
   ]
  },
  {
   "cell_type": "code",
   "execution_count": null,
   "metadata": {},
   "outputs": [],
   "source": [
    "plt.figure(figsize = (15, 10))\n",
    "\n",
    "plt.scatter(city_weather_df['Latitude'], city_weather_df['Humidity (%)'], \n",
    "            marker = 'o', \n",
    "            color = 'skyblue', \n",
    "            edgecolor = 'teal', \n",
    "            alpha = 0.75)\n",
    "\n",
    "# Title the plot.\n",
    "plt.title('Latitude vs Humidity', fontsize = 30)\n",
    "\n",
    "# Label and limits for x-axis.\n",
    "plt.xlabel('Location: Degrees of Latitude', fontsize = 16)\n",
    "plt.xlim (-90, 90)\n",
    "\n",
    "# Label and limits for y-axis.\n",
    "plt.ylabel('Percent Humidity', fontsize = 16)\n",
    "plt.ylim (0, 110)\n",
    "\n",
    "# Add light grid.\n",
    "plt.grid(color = 'silver', linestyle = '-.', linewidth = 0.5)\n",
    "\n",
    "plt.show()"
   ]
  },
  {
   "cell_type": "markdown",
   "metadata": {},
   "source": [
    "#### Latitude vs. Cloudiness Plot"
   ]
  },
  {
   "cell_type": "code",
   "execution_count": null,
   "metadata": {},
   "outputs": [],
   "source": [
    "plt.figure(figsize = (15, 10))\n",
    "\n",
    "plt.scatter(city_weather_df['Latitude'], city_weather_df['Cloudiness (%)'], \n",
    "            marker = 'o', \n",
    "            color = 'skyblue', \n",
    "            edgecolor = 'teal', \n",
    "            alpha = 0.75)\n",
    "\n",
    "# Title the plot.\n",
    "plt.title('Latitude vs Cloudiness', fontsize = 30)\n",
    "\n",
    "# Label and limits for x-axis.\n",
    "plt.xlabel('Location: Degrees of Latitude', fontsize = 16)\n",
    "plt.xlim (-90, 90)\n",
    "\n",
    "# Label and limits for y-axis.\n",
    "plt.ylabel('Percent Cloudiness', fontsize = 16)\n",
    "plt.ylim (0, 110)\n",
    "\n",
    "# Add light grid.\n",
    "plt.grid(color = 'silver', linestyle = '-.', linewidth = 0.5)\n",
    "\n",
    "plt.show()"
   ]
  },
  {
   "cell_type": "markdown",
   "metadata": {},
   "source": [
    "#### Latitude vs. Wind Speed Plot"
   ]
  },
  {
   "cell_type": "code",
   "execution_count": null,
   "metadata": {},
   "outputs": [],
   "source": [
    "plt.figure(figsize = (15, 10))\n",
    "\n",
    "plt.scatter(city_weather_df['Latitude'], city_weather_df['Wind Speed (mph)'], \n",
    "            marker = 'o', \n",
    "            color = 'skyblue', \n",
    "            edgecolor = 'teal', \n",
    "            alpha = 0.75)\n",
    "\n",
    "# Title the plot.\n",
    "plt.title('Latitude vs Wind Speed', fontsize = 30)\n",
    "\n",
    "# Label and limits for x-axis.\n",
    "plt.xlabel('Location: Degrees of Latitude', fontsize = 16)\n",
    "plt.xlim (-90, 90)\n",
    "\n",
    "# Label and limits for y-axis.\n",
    "plt.ylabel('Wind Speed (mph)', fontsize = 16)\n",
    "plt.ylim (0, 40)\n",
    "\n",
    "# Add light grid.\n",
    "plt.grid(color = 'silver', linestyle = '-.', linewidth = 0.5)\n",
    "\n",
    "plt.show()"
   ]
  }
 ],
 "metadata": {
  "anaconda-cloud": {},
  "kernel_info": {
   "name": "python3"
  },
  "kernelspec": {
   "display_name": "Python 3",
   "language": "python",
   "name": "python3"
  },
  "language_info": {
   "codemirror_mode": {
    "name": "ipython",
    "version": 3
   },
   "file_extension": ".py",
   "mimetype": "text/x-python",
   "name": "python",
   "nbconvert_exporter": "python",
   "pygments_lexer": "ipython3",
   "version": "3.7.3"
  },
  "nteract": {
   "version": "0.12.3"
  },
  "varInspector": {
   "cols": {
    "lenName": 16,
    "lenType": 16,
    "lenVar": 40
   },
   "kernels_config": {
    "python": {
     "delete_cmd_postfix": "",
     "delete_cmd_prefix": "del ",
     "library": "var_list.py",
     "varRefreshCmd": "print(var_dic_list())"
    },
    "r": {
     "delete_cmd_postfix": ") ",
     "delete_cmd_prefix": "rm(",
     "library": "var_list.r",
     "varRefreshCmd": "cat(var_dic_list()) "
    }
   },
   "position": {
    "height": "221.379px",
    "left": "1223.76px",
    "right": "20px",
    "top": "3.98218px",
    "width": "508.165px"
   },
   "types_to_exclude": [
    "module",
    "function",
    "builtin_function_or_method",
    "instance",
    "_Feature"
   ],
   "window_display": false
  }
 },
 "nbformat": 4,
 "nbformat_minor": 2
}
